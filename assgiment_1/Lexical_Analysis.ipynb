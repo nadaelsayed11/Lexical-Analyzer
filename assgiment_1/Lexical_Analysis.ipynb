{
 "cells": [
  {
   "attachments": {},
   "cell_type": "markdown",
   "metadata": {},
   "source": [
    "Requirement 1"
   ]
  },
  {
   "cell_type": "code",
   "execution_count": null,
   "metadata": {},
   "outputs": [],
   "source": [
    "def is_valid_regex(regex):\n",
    "    return True\n",
    "def re_to_nfa(regex):\n",
    "    if not is_valid_regex(regex):\n",
    "        return \"error, invalid regex\"\n",
    "    \n",
    "    "
   ]
  }
 ],
 "metadata": {
  "language_info": {
   "name": "python"
  },
  "orig_nbformat": 4
 },
 "nbformat": 4,
 "nbformat_minor": 2
}
